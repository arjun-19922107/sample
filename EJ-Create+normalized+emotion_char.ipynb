{
 "cells": [
  {
   "cell_type": "code",
   "execution_count": 64,
   "metadata": {},
   "outputs": [
    {
     "name": "stderr",
     "output_type": "stream",
     "text": [
      "C:\\Users\\User\\Anaconda2\\lib\\site-packages\\ipykernel_launcher.py:22: SettingWithCopyWarning: \n",
      "A value is trying to be set on a copy of a slice from a DataFrame.\n",
      "Try using .loc[row_indexer,col_indexer] = value instead\n",
      "\n",
      "See the caveats in the documentation: http://pandas.pydata.org/pandas-docs/stable/indexing.html#indexing-view-versus-copy\n"
     ]
    }
   ],
   "source": [
    "import pandas as pd\n",
    "import numpy as np\n",
    "df=pd.read_csv('D:/Automation code/LINE_LEVEL_DATAFRAME_FOR_PMHMD2.csv')\n",
    "df.fillna(0)\n",
    "# extract the characters and emotions from the data \n",
    "\n",
    "characters=[i.replace('_prop_text','') for i in df.columns if i.find('_prop_text')>-1]\n",
    "emotions=['joy','sadness','disgust','anger','surprise','fear']\n",
    "character_pair=list(df.iloc[:,list(df.columns).index('Words in paragraph'):list(df.columns).index('Line_proportion')].columns)[1:]\n",
    "characters=[i.replace('_prop_text','') for i in df.columns if i.find('_prop_text')>-1]\n",
    "col_names_to_show=[]\n",
    "col_names_to_show.extend(('Date','Para no.','Line no.','Line length','Line_proportion','Para_proportion','Words in episode'))\n",
    "col_names_to_show=col_names_to_show+emotions+characters+character_pair\n",
    "total_chars_present=characters+character_pair\n",
    "# create new emotion variables which stores the normalized results\n",
    "new_emotions=[emotion+'new' for emotion in emotions]\n",
    "# filter the df to get only the relevant columns \n",
    "df_1=df[col_names_to_show]\n",
    "\n",
    "def create_emotion_variables():\n",
    "    for i,emotion in enumerate(emotions):\n",
    "        df_1[new_emotions[i]]=df_1[emotion].multiply(df_1['Para_proportion'],axis='index')\n",
    "\n",
    "create_emotion_variables()\n",
    "# create  a list for all distinct dates \n",
    "all_dates=list(df['Date'].unique())\n",
    "all_dates_df=pd.DataFrame({'date':all_dates})\n",
    "\n",
    "# create a temp df to append the information\n",
    "master=pd.DataFrame(columns=emotions)\n",
    "\n",
    "# create a temp df for each character to perform opertations\n",
    "# run loop for each character \n",
    "for char_index,character in enumerate(total_chars_present):\n",
    "    \n",
    "    temp_df=df_1[df[total_chars_present[char_index]]>=1]\n",
    "\n",
    "    dates_for_char_present=list(temp_df['Date'].unique())\n",
    "\n",
    "    for new_emotion in new_emotions:\n",
    "            #print new_emotion\n",
    "            globals()[new_emotion]=list(temp_df.groupby(['Date'])[new_emotion].sum())\n",
    "\n",
    "    # create a dictionary to store the values for each date \n",
    "\n",
    "    dates_values_emotions=dict((item[0],list(item[1:])) for item in zip(dates_for_char_present,joynew,sadnessnew,disgustnew,angernew,surprisenew,fearnew))\n",
    "\n",
    "    # create the date-character leveldataframe and rename the first axis \n",
    "\n",
    "    char_level_emotion_date = pd.DataFrame(dates_values_emotions).transpose()\n",
    "    char_level_emotion_date['char']=total_chars_present[char_index]\n",
    "    char_level_emotion_date['date']=char_level_emotion_date.index\n",
    "\n",
    "    # left join the 2 data frames so that if a date is not present for a character it shows NaN\n",
    "    new=(pd.merge(all_dates_df,char_level_emotion_date,on='date',how='left'))\n",
    "    new['char'].fillna(total_chars_present[char_index],inplace=True)\n",
    "    #rename the column names joynew,sadnessnew,disgustnew,angernew,surprisenew,fearnew\n",
    "    new.rename(columns={0:'joy',1:'sadness',2:'disgust',3:'anger',4:'surprise',5:'fear'},inplace=True)\n",
    "    # append it to a temp_dataframe \n",
    "    master = master.append(new,ignore_index=True)\n",
    "master.fillna(0,inplace=True)\n",
    "master= pd.melt(master, id_vars=['char','date'], var_name=['emotion'])\n",
    "#result.to_csv('Desktop/t.csv',index=False)\n",
    "master.to_csv('Desktop/phmpd_t.csv',index=False)"
   ]
  }
 ],
 "metadata": {
  "kernelspec": {
   "display_name": "Python 2",
   "language": "python",
   "name": "python2"
  },
  "language_info": {
   "codemirror_mode": {
    "name": "ipython",
    "version": 2
   },
   "file_extension": ".py",
   "mimetype": "text/x-python",
   "name": "python",
   "nbconvert_exporter": "python",
   "pygments_lexer": "ipython2",
   "version": "2.7.13"
  }
 },
 "nbformat": 4,
 "nbformat_minor": 2
}
