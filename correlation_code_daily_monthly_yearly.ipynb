{
 "cells": [
  {
   "cell_type": "code",
   "execution_count": 114,
   "metadata": {
    "collapsed": false,
    "scrolled": true
   },
   "outputs": [],
   "source": [
    "import pandas as pd\n",
    "share=pd.read_csv('/home/arjun/Downloads/new_share.csv')\n",
    "share.dropna(axis=1,inplace=True)\n",
    "emotions=pd.read_csv('/home/arjun/Downloads/EMOTIONS.csv')\n",
    "share\n",
    "emotions\n",
    "# change the date formats of share and emotions\n",
    "emotions['Date']=pd.to_datetime(emotions['Date']).dt.strftime('%d/%m/%Y')\n",
    "emotions['Date']=pd.to_datetime(emotions.Date)\n",
    "emotions['month']=emotions.Date.dt.month\n",
    "emotions['year']=emotions.Date.dt.year\n",
    "share['Date']=pd.to_datetime(share['Date']).dt.strftime('%d/%m/%Y')\n",
    "share['Date']=pd.to_datetime(share.Date)\n",
    "share['month']=share.Date.dt.month\n",
    "share['year']=share.Date.dt.year\n",
    "# merge emotions and share \n",
    "share_emo=emotions.merge(share,on='Date',how='inner')\n",
    "emotion_names=share_emo.columns\n",
    "# get emotions \n",
    "emotion_names=[i  for i in emotion_names if i.find('-E-')>1]\n",
    "# create a data frame to store values\n",
    "emo_df_corr_daily=pd.DataFrame()\n",
    "#subbset df and run loop\n",
    "for row_num,emo in enumerate(emotion_names):\n",
    "    temp_df=share_emo[[emo,'z_norm']]\n",
    "    corr_val=temp_df.corr().iloc[0,1]\n",
    "    emo_df_corr_daily.loc[row_num,'metric']=emo\n",
    "    emo_df_corr_daily.loc[row_num,'cor_value']=corr_val\n",
    "# monthly correlation done\n",
    "\n"
   ]
  },
  {
   "cell_type": "code",
   "execution_count": 115,
   "metadata": {
    "collapsed": false
   },
   "outputs": [
    {
     "data": {
      "text/html": [
       "<div>\n",
       "<table border=\"1\" class=\"dataframe\">\n",
       "  <thead>\n",
       "    <tr style=\"text-align: right;\">\n",
       "      <th></th>\n",
       "      <th>metric</th>\n",
       "      <th>cor_value</th>\n",
       "    </tr>\n",
       "  </thead>\n",
       "  <tbody>\n",
       "    <tr>\n",
       "      <th>0</th>\n",
       "      <td>anger-E-1</td>\n",
       "      <td>0.046310</td>\n",
       "    </tr>\n",
       "    <tr>\n",
       "      <th>1</th>\n",
       "      <td>disgust-E-1</td>\n",
       "      <td>-0.003626</td>\n",
       "    </tr>\n",
       "    <tr>\n",
       "      <th>2</th>\n",
       "      <td>fear-E-1</td>\n",
       "      <td>0.019479</td>\n",
       "    </tr>\n",
       "    <tr>\n",
       "      <th>3</th>\n",
       "      <td>joy-E-1</td>\n",
       "      <td>-0.096157</td>\n",
       "    </tr>\n",
       "    <tr>\n",
       "      <th>4</th>\n",
       "      <td>sadness-E-1</td>\n",
       "      <td>0.071228</td>\n",
       "    </tr>\n",
       "    <tr>\n",
       "      <th>5</th>\n",
       "      <td>surprise-E-1</td>\n",
       "      <td>0.065751</td>\n",
       "    </tr>\n",
       "  </tbody>\n",
       "</table>\n",
       "</div>"
      ],
      "text/plain": [
       "         metric  cor_value\n",
       "0     anger-E-1   0.046310\n",
       "1   disgust-E-1  -0.003626\n",
       "2      fear-E-1   0.019479\n",
       "3       joy-E-1  -0.096157\n",
       "4   sadness-E-1   0.071228\n",
       "5  surprise-E-1   0.065751"
      ]
     },
     "execution_count": 115,
     "metadata": {},
     "output_type": "execute_result"
    }
   ],
   "source": [
    "emo_df_corr_daily"
   ]
  },
  {
   "cell_type": "code",
   "execution_count": 119,
   "metadata": {
    "collapsed": false
   },
   "outputs": [],
   "source": [
    "    ######################################### MONTHLY CORRELATION #####################\n",
    "\n",
    "### STEP 1. CREATE EMOTION LEVEL DATA ON MONTHLY LEVEL\n",
    "\n",
    "emo_melt=pd.melt(emotions,id_vars=['Date','month','year'],var_name='emotion')\n",
    "emo_melt_gb_month=emo_melt.groupby(['year','month','emotion'])['value'].mean().reset_index()    \n",
    "emo_monthly_mean=emo_melt_gb_month.pivot_table('value',['year','month'],'emotion').reset_index()\n",
    "#emo_monthly_mean.drop('emotion',axis=1,inplace=True)\n",
    "\n",
    "### STEP 2. CREATE SHARE LEVEL DATA ON MONTHLY LEVEL\n",
    "\n",
    "# share groupby monthly level\n",
    "share_gb_month=share.groupby(['year','month'])['share'].mean().reset_index()\n",
    "#z_norm_calc monthly\n",
    "mean_share_month=share_gb_month.share.mean()\n",
    "stddev_share_month=share_gb_month.share.std()\n",
    "\n",
    "share_gb_month['z_norm_monthly']=share_gb_month.share.apply(lambda x: (x-mean_share_month)/stddev_share_month  )\n",
    "\n",
    "\n",
    "### STEP 3. MERGE share_gb_month AND emo_monthly_mean DATA ON MONTH AND YEAR KEY\n",
    "\n",
    "share_emo_month_joined=share_gb_month.merge(emo_monthly_mean,on=['year','month'],how='inner')\n",
    "\n",
    "### STEP 4 . APPLY LOOP ON ALL EMOTIONS AND STORE THE CORR DATA \n",
    "emotion_names=share_emo_month_joined.columns\n",
    "# get emotions \n",
    "emotion_names=[i  for i in emotion_names if i.find('-E-')>1]\n",
    "# create a data frame to store values\n",
    "emo_df_corr_monthly=pd.DataFrame()\n",
    "#subbset df and run loop\n",
    "\n",
    "\n",
    "# monthly correlation done\n",
    "\n",
    "\n"
   ]
  },
  {
   "cell_type": "code",
   "execution_count": 120,
   "metadata": {
    "collapsed": true
   },
   "outputs": [],
   "source": [
    "for row_num,emo in enumerate(emotion_names):\n",
    "    temp_df=share_emo_month_joined[[emo,'z_norm']]\n",
    "    corr_val=temp_df.corr().iloc[0,1]\n",
    "    emo_df_corr_monthly.loc[row_num,'metric']=emo\n",
    "    emo_df_corr_monthly.loc[row_num,'cor_value']=corr_val"
   ]
  }
 ],
 "metadata": {
  "kernelspec": {
   "display_name": "Python 3",
   "language": "python",
   "name": "python3"
  },
  "language_info": {
   "codemirror_mode": {
    "name": "ipython",
    "version": 3
   },
   "file_extension": ".py",
   "mimetype": "text/x-python",
   "name": "python",
   "nbconvert_exporter": "python",
   "pygments_lexer": "ipython3",
   "version": "3.6.0"
  }
 },
 "nbformat": 4,
 "nbformat_minor": 2
}
