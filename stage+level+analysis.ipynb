{
 "cells": [
  {
   "cell_type": "code",
   "execution_count": 147,
   "metadata": {
    "collapsed": true
   },
   "outputs": [],
   "source": [
    "import pandas as pd\n",
    "import os\n",
    "import datetime\n",
    "os.chdir('D:/star/Synopsis/shared from clients/DBH')\n",
    "df1=pd.read_csv('keywords_new.CSV')\n",
    "###############  DEFINE DATES AS STAGES ##################\n",
    "stage1=[datetime.datetime.strptime('01-01-2013',\"%d-%m-%Y\").date(),datetime.datetime.strptime('31-03-2013',\"%d-%m-%Y\").date()]\n",
    "stage2=[datetime.datetime.strptime('01-04-2013',\"%d-%m-%Y\").date(),datetime.datetime.strptime('31-07-2013',\"%d-%m-%Y\").date()]\n",
    "stage3=[datetime.datetime.strptime('01-08-2013',\"%d-%m-%Y\").date(),datetime.datetime.strptime('30-04-2014',\"%d-%m-%Y\").date()]\n",
    "stage4=[datetime.datetime.strptime('01-05-2014',\"%d-%m-%Y\").date(),datetime.datetime.strptime('30-09-2014',\"%d-%m-%Y\").date()]\n",
    "stage5=[datetime.datetime.strptime('01-10-2014',\"%d-%m-%Y\").date(),datetime.datetime.strptime('30-11-2014',\"%d-%m-%Y\").date()]\n",
    "stage6=[datetime.datetime.strptime('01-12-2014',\"%d-%m-%Y\").date(),datetime.datetime.strptime('31-03-2015',\"%d-%m-%Y\").date()]\n",
    "stage7=[datetime.datetime.strptime('01-11-2015',\"%d-%m-%Y\").date(),datetime.datetime.strptime('31-07-2016',\"%d-%m-%Y\").date()]\n",
    "stage8=[datetime.datetime.strptime('01-08-2016',\"%d-%m-%Y\").date(),datetime.datetime.strptime('30-09-2016',\"%d-%m-%Y\").date()]\n",
    "############## FUNCTION TO CREATE STAGE LEVEL DATA #######\n",
    "def stage_creation(x):\n",
    "    if stage1[0]<=datetime.datetime.strptime(str(x),\"%d-%m-%Y\").date()<=stage1[1]:\n",
    "        return 'stage1'\n",
    "    elif stage2[0]<=datetime.datetime.strptime(str(x),\"%d-%m-%Y\").date()<=stage2[1]:\n",
    "        return 'stage2'\n",
    "    elif stage3[0]<=datetime.datetime.strptime(str(x),\"%d-%m-%Y\").date()<=stage3[1]:\n",
    "        return 'stage3'\n",
    "    elif stage4[0]<=datetime.datetime.strptime(str(x),\"%d-%m-%Y\").date()<=stage4[1]:\n",
    "        return 'stage4'\n",
    "    elif stage5[0]<=datetime.datetime.strptime(str(x),\"%d-%m-%Y\").date()<=stage5[1]:\n",
    "        return 'stage5'\n",
    "    elif stage6[0]<=datetime.datetime.strptime(str(x),\"%d-%m-%Y\").date()<=stage6[1]:\n",
    "        return 'stage6'\n",
    "    elif stage7[0]<=datetime.datetime.strptime(str(x),\"%d-%m-%Y\").date()<=stage7[1]:\n",
    "        return 'stage7'\n",
    "    elif stage8[0]<=datetime.datetime.strptime(str(x),\"%d-%m-%Y\").date()<=stage8[1]:\n",
    "        return 'stage7'\n",
    "    else:\n",
    "        return 'no match'\n",
    "df1['stage_type']=df1.Date.apply(stage_creation)     \n",
    "df1.to_csv('stage_test.csv')"
   ]
  },
  {
   "cell_type": "code",
   "execution_count": 152,
   "metadata": {},
   "outputs": [],
   "source": [
    "\n",
    "os.chdir('D:/star/Synopsis/shared from clients/ISHB')\n",
    "df1=pd.read_csv('keywords.CSV')\n",
    "###############  DEFINE DATES AS STAGES ##################\n",
    "stage1=[datetime.datetime.strptime('01-07-2016',\"%d-%m-%Y\").date(),datetime.datetime.strptime('30-11-2016',\"%d-%m-%Y\").date()]\n",
    "stage2=[datetime.datetime.strptime('01-12-2016',\"%d-%m-%Y\").date(),datetime.datetime.strptime('31-03-2017',\"%d-%m-%Y\").date()]\n",
    "stage3=[datetime.datetime.strptime('01-04-2017',\"%d-%m-%Y\").date(),datetime.datetime.strptime('31-08-2017',\"%d-%m-%Y\").date()]\n",
    "\n",
    "############## FUNCTION TO CREATE STAGE LEVEL DATA #######\n",
    "def stage_creation(x):\n",
    "    if stage1[0]<=datetime.datetime.strptime(str(x),\"%d-%m-%Y\").date()<=stage1[1]:\n",
    "        return 'stage1'\n",
    "    elif stage2[0]<=datetime.datetime.strptime(str(x),\"%d-%m-%Y\").date()<=stage2[1]:\n",
    "        return 'stage2'\n",
    "    elif stage3[0]<=datetime.datetime.strptime(str(x),\"%d-%m-%Y\").date()<=stage3[1]:\n",
    "        return 'stage3'\n",
    "    else:\n",
    "        return 'no match'\n",
    "df1['stage_type']=df1.Date.apply(stage_creation)     \n",
    "df1.to_csv('stage_test.csv')"
   ]
  }
 ],
 "metadata": {
  "kernelspec": {
   "display_name": "Python 2",
   "language": "python",
   "name": "python2"
  },
  "language_info": {
   "codemirror_mode": {
    "name": "ipython",
    "version": 2
   },
   "file_extension": ".py",
   "mimetype": "text/x-python",
   "name": "python",
   "nbconvert_exporter": "python",
   "pygments_lexer": "ipython2",
   "version": "2.7.13"
  }
 },
 "nbformat": 4,
 "nbformat_minor": 2
}
