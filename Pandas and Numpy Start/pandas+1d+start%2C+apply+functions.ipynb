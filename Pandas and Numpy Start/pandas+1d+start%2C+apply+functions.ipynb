{
 "cells": [
  {
   "cell_type": "code",
   "execution_count": 68,
   "metadata": {
    "collapsed": true
   },
   "outputs": [],
   "source": [
    "# function to reverse the names of each element in a series\n",
    "# import pandas as pd \n",
    "names = pd.Series([\n",
    "    'Andre Agassi',\n",
    "    'Barry Bonds',\n",
    "    'Christopher Columbus',\n",
    "    'Daniel Defoe',\n",
    "    'Emilio Estevez',\n",
    "    'Fred Flintstone',\n",
    "    'Greta Garbo',\n",
    "    'Humbert Humbert',\n",
    "    'Ivan Ilych',\n",
    "    'James Joyce',\n",
    "    'Keira Knightley',\n",
    "    'Lois Lane',\n",
    "    'Mike Myers',\n",
    "    'Nick Nolte',\n",
    "    'Ozzy Osbourne',\n",
    "    'Pablo Picasso',\n",
    "    'Quirinus Quirrell',\n",
    "    'Rachael Ray',\n",
    "    'Susan Sarandon',\n",
    "    'Tina Turner',\n",
    "    'Ugueth Urbina',\n",
    "    'Vince Vaughn',\n",
    "    'Woodrow Wilson',\n",
    "    'Yoji Yamada',\n",
    "    'Zinedine Zidane'\n",
    "])\n"
   ]
  },
  {
   "cell_type": "code",
   "execution_count": 104,
   "metadata": {
    "collapsed": true
   },
   "outputs": [],
   "source": [
    "# write a code to print only the last names of a 1 D pandas series \n",
    "new_names=[]\n",
    "for i in names:\n",
    "    new_names.append((i.split()[1]+\" \"+i.split()[0]))\n",
    "new_names\n",
    "# create a function :\n",
    "def test(a):\n",
    "    return a.split()[0]+\" \"+a.split()[1]    \n",
    "x1=names.apply(test)"
   ]
  },
  {
   "cell_type": "code",
   "execution_count": 131,
   "metadata": {},
   "outputs": [
    {
     "data": {
      "text/plain": [
       "0     11\n",
       "1     10\n",
       "2     19\n",
       "3     11\n",
       "4     13\n",
       "5     14\n",
       "6     10\n",
       "7     14\n",
       "8      9\n",
       "9     10\n",
       "10    14\n",
       "11     8\n",
       "12     9\n",
       "13     9\n",
       "14    12\n",
       "15    12\n",
       "16    16\n",
       "17    10\n",
       "18    13\n",
       "19    10\n",
       "20    12\n",
       "21    11\n",
       "22    13\n",
       "23    10\n",
       "24    14\n",
       "dtype: int64"
      ]
     },
     "execution_count": 131,
     "metadata": {},
     "output_type": "execute_result"
    }
   ],
   "source": [
    "# count the number of spaces in each \n",
    "x=pd.Series(['Andre Agassi',\n",
    "    'Barry Bonds',\n",
    "    'Christopher  Columbus']\n",
    "           )\n",
    "x\n",
    "unique_array=x.unique()\n",
    "# function to count the number of spaces \n",
    "def count_space(x):\n",
    "        return x.count(\" \")\n",
    "names.apply(count_space)\n",
    "# count the number of characters excluding spaces\n",
    "def count_chars_except_space(x):\n",
    "    space_count=x.count(\" \")\n",
    "    return len(x)-space_count\n",
    "names.apply(count_chars_except_space)\n",
    "    \n",
    "\n",
    "    \n"
   ]
  },
  {
   "cell_type": "code",
   "execution_count": null,
   "metadata": {
    "collapsed": true
   },
   "outputs": [],
   "source": []
  },
  {
   "cell_type": "code",
   "execution_count": null,
   "metadata": {
    "collapsed": true
   },
   "outputs": [],
   "source": []
  }
 ],
 "metadata": {
  "kernelspec": {
   "display_name": "Python 3",
   "language": "python",
   "name": "python3"
  },
  "language_info": {
   "codemirror_mode": {
    "name": "ipython",
    "version": 3
   },
   "file_extension": ".py",
   "mimetype": "text/x-python",
   "name": "python",
   "nbconvert_exporter": "python",
   "pygments_lexer": "ipython3",
   "version": "3.6.1"
  }
 },
 "nbformat": 4,
 "nbformat_minor": 2
}
